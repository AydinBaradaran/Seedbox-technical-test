{
 "cells": [
  {
   "cell_type": "markdown",
   "metadata": {},
   "source": [
    "# Seedbox Technical challenge"
   ]
  },
  {
   "cell_type": "markdown",
   "metadata": {},
   "source": [
    "## Preliminary Work"
   ]
  },
  {
   "cell_type": "markdown",
   "metadata": {},
   "source": [
    "Let us now import the packages we will need inorder to carry out this challenge"
   ]
  },
  {
   "cell_type": "code",
   "execution_count": 1,
   "metadata": {},
   "outputs": [],
   "source": [
    "import pandas as pd\n",
    "import numpy as np\n",
    "import matplotlib.pyplot as plt\n",
    "import scipy.stats as stats"
   ]
  },
  {
   "cell_type": "markdown",
   "metadata": {},
   "source": [
    "let us now read in our csv files we will need to look at"
   ]
  },
  {
   "cell_type": "code",
   "execution_count": 2,
   "metadata": {},
   "outputs": [],
   "source": [
    "transaction_data = pd.read_csv(\"transData.csv\")\n",
    "test_sample = pd.read_csv(\"testSamples.csv\")"
   ]
  },
  {
   "cell_type": "markdown",
   "metadata": {},
   "source": [
    "lets take a glimpse at the data presented to us, as well as any other info we can see at a glance."
   ]
  },
  {
   "cell_type": "code",
   "execution_count": 3,
   "metadata": {},
   "outputs": [
    {
     "data": {
      "text/html": [
       "<div>\n",
       "<style scoped>\n",
       "    .dataframe tbody tr th:only-of-type {\n",
       "        vertical-align: middle;\n",
       "    }\n",
       "\n",
       "    .dataframe tbody tr th {\n",
       "        vertical-align: top;\n",
       "    }\n",
       "\n",
       "    .dataframe thead th {\n",
       "        text-align: right;\n",
       "    }\n",
       "</style>\n",
       "<table border=\"1\" class=\"dataframe\">\n",
       "  <thead>\n",
       "    <tr style=\"text-align: right;\">\n",
       "      <th></th>\n",
       "      <th>transaction_id</th>\n",
       "      <th>sample_id</th>\n",
       "      <th>transaction_type</th>\n",
       "      <th>transaction_amount</th>\n",
       "    </tr>\n",
       "  </thead>\n",
       "  <tbody>\n",
       "    <tr>\n",
       "      <th>0</th>\n",
       "      <td>52346326</td>\n",
       "      <td>11</td>\n",
       "      <td>REBILL</td>\n",
       "      <td>24.95</td>\n",
       "    </tr>\n",
       "    <tr>\n",
       "      <th>1</th>\n",
       "      <td>52346327</td>\n",
       "      <td>11</td>\n",
       "      <td>REBILL</td>\n",
       "      <td>24.95</td>\n",
       "    </tr>\n",
       "    <tr>\n",
       "      <th>2</th>\n",
       "      <td>52346328</td>\n",
       "      <td>32</td>\n",
       "      <td>REBILL</td>\n",
       "      <td>29.95</td>\n",
       "    </tr>\n",
       "    <tr>\n",
       "      <th>3</th>\n",
       "      <td>52346329</td>\n",
       "      <td>32</td>\n",
       "      <td>REBILL</td>\n",
       "      <td>29.95</td>\n",
       "    </tr>\n",
       "    <tr>\n",
       "      <th>4</th>\n",
       "      <td>52346330</td>\n",
       "      <td>32</td>\n",
       "      <td>REBILL</td>\n",
       "      <td>29.95</td>\n",
       "    </tr>\n",
       "    <tr>\n",
       "      <th>...</th>\n",
       "      <td>...</td>\n",
       "      <td>...</td>\n",
       "      <td>...</td>\n",
       "      <td>...</td>\n",
       "    </tr>\n",
       "    <tr>\n",
       "      <th>7425</th>\n",
       "      <td>52353751</td>\n",
       "      <td>59654</td>\n",
       "      <td>REBILL</td>\n",
       "      <td>39.95</td>\n",
       "    </tr>\n",
       "    <tr>\n",
       "      <th>7426</th>\n",
       "      <td>52353752</td>\n",
       "      <td>59654</td>\n",
       "      <td>REBILL</td>\n",
       "      <td>39.95</td>\n",
       "    </tr>\n",
       "    <tr>\n",
       "      <th>7427</th>\n",
       "      <td>52353753</td>\n",
       "      <td>59689</td>\n",
       "      <td>REBILL</td>\n",
       "      <td>24.95</td>\n",
       "    </tr>\n",
       "    <tr>\n",
       "      <th>7428</th>\n",
       "      <td>52353754</td>\n",
       "      <td>59689</td>\n",
       "      <td>REBILL</td>\n",
       "      <td>24.95</td>\n",
       "    </tr>\n",
       "    <tr>\n",
       "      <th>7429</th>\n",
       "      <td>52353755</td>\n",
       "      <td>59694</td>\n",
       "      <td>REBILL</td>\n",
       "      <td>24.95</td>\n",
       "    </tr>\n",
       "  </tbody>\n",
       "</table>\n",
       "<p>7430 rows × 4 columns</p>\n",
       "</div>"
      ],
      "text/plain": [
       "      transaction_id  sample_id transaction_type  transaction_amount\n",
       "0           52346326         11           REBILL               24.95\n",
       "1           52346327         11           REBILL               24.95\n",
       "2           52346328         32           REBILL               29.95\n",
       "3           52346329         32           REBILL               29.95\n",
       "4           52346330         32           REBILL               29.95\n",
       "...              ...        ...              ...                 ...\n",
       "7425        52353751      59654           REBILL               39.95\n",
       "7426        52353752      59654           REBILL               39.95\n",
       "7427        52353753      59689           REBILL               24.95\n",
       "7428        52353754      59689           REBILL               24.95\n",
       "7429        52353755      59694           REBILL               24.95\n",
       "\n",
       "[7430 rows x 4 columns]"
      ]
     },
     "execution_count": 3,
     "metadata": {},
     "output_type": "execute_result"
    }
   ],
   "source": [
    "transaction_data"
   ]
  },
  {
   "cell_type": "code",
   "execution_count": 4,
   "metadata": {},
   "outputs": [
    {
     "name": "stdout",
     "output_type": "stream",
     "text": [
      "<class 'pandas.core.frame.DataFrame'>\n",
      "RangeIndex: 7430 entries, 0 to 7429\n",
      "Data columns (total 4 columns):\n",
      " #   Column              Non-Null Count  Dtype  \n",
      "---  ------              --------------  -----  \n",
      " 0   transaction_id      7430 non-null   int64  \n",
      " 1   sample_id           7430 non-null   int64  \n",
      " 2   transaction_type    7430 non-null   object \n",
      " 3   transaction_amount  7430 non-null   float64\n",
      "dtypes: float64(1), int64(2), object(1)\n",
      "memory usage: 232.3+ KB\n"
     ]
    }
   ],
   "source": [
    "transaction_data.info()"
   ]
  },
  {
   "cell_type": "code",
   "execution_count": 5,
   "metadata": {},
   "outputs": [
    {
     "data": {
      "text/html": [
       "<div>\n",
       "<style scoped>\n",
       "    .dataframe tbody tr th:only-of-type {\n",
       "        vertical-align: middle;\n",
       "    }\n",
       "\n",
       "    .dataframe tbody tr th {\n",
       "        vertical-align: top;\n",
       "    }\n",
       "\n",
       "    .dataframe thead th {\n",
       "        text-align: right;\n",
       "    }\n",
       "</style>\n",
       "<table border=\"1\" class=\"dataframe\">\n",
       "  <thead>\n",
       "    <tr style=\"text-align: right;\">\n",
       "      <th></th>\n",
       "      <th>transaction_id</th>\n",
       "      <th>sample_id</th>\n",
       "      <th>transaction_amount</th>\n",
       "    </tr>\n",
       "  </thead>\n",
       "  <tbody>\n",
       "    <tr>\n",
       "      <th>count</th>\n",
       "      <td>7.430000e+03</td>\n",
       "      <td>7430.000000</td>\n",
       "      <td>7430.000000</td>\n",
       "    </tr>\n",
       "    <tr>\n",
       "      <th>mean</th>\n",
       "      <td>5.235004e+07</td>\n",
       "      <td>30245.874024</td>\n",
       "      <td>24.935720</td>\n",
       "    </tr>\n",
       "    <tr>\n",
       "      <th>std</th>\n",
       "      <td>2.145001e+03</td>\n",
       "      <td>17064.733330</td>\n",
       "      <td>15.050653</td>\n",
       "    </tr>\n",
       "    <tr>\n",
       "      <th>min</th>\n",
       "      <td>5.234633e+07</td>\n",
       "      <td>11.000000</td>\n",
       "      <td>-39.950000</td>\n",
       "    </tr>\n",
       "    <tr>\n",
       "      <th>25%</th>\n",
       "      <td>5.234818e+07</td>\n",
       "      <td>15866.250000</td>\n",
       "      <td>24.950000</td>\n",
       "    </tr>\n",
       "    <tr>\n",
       "      <th>50%</th>\n",
       "      <td>5.235004e+07</td>\n",
       "      <td>30557.000000</td>\n",
       "      <td>24.950000</td>\n",
       "    </tr>\n",
       "    <tr>\n",
       "      <th>75%</th>\n",
       "      <td>5.235190e+07</td>\n",
       "      <td>44945.000000</td>\n",
       "      <td>32.950000</td>\n",
       "    </tr>\n",
       "    <tr>\n",
       "      <th>max</th>\n",
       "      <td>5.235376e+07</td>\n",
       "      <td>59694.000000</td>\n",
       "      <td>39.950000</td>\n",
       "    </tr>\n",
       "  </tbody>\n",
       "</table>\n",
       "</div>"
      ],
      "text/plain": [
       "       transaction_id     sample_id  transaction_amount\n",
       "count    7.430000e+03   7430.000000         7430.000000\n",
       "mean     5.235004e+07  30245.874024           24.935720\n",
       "std      2.145001e+03  17064.733330           15.050653\n",
       "min      5.234633e+07     11.000000          -39.950000\n",
       "25%      5.234818e+07  15866.250000           24.950000\n",
       "50%      5.235004e+07  30557.000000           24.950000\n",
       "75%      5.235190e+07  44945.000000           32.950000\n",
       "max      5.235376e+07  59694.000000           39.950000"
      ]
     },
     "execution_count": 5,
     "metadata": {},
     "output_type": "execute_result"
    }
   ],
   "source": [
    "transaction_data.describe()"
   ]
  },
  {
   "cell_type": "markdown",
   "metadata": {},
   "source": [
    "the above table is used more for understanding the transaction_amount and seeing the values, for further insight"
   ]
  },
  {
   "cell_type": "markdown",
   "metadata": {},
   "source": [
    "We have a table for the transData.csv with 7430 rows, and 4 columns, of those 4 they are transaction id (type int), sample id (type int), transaction type (string type), and transaction amount (float type)\n",
    "\n",
    "transaction_id is the the unique identifier to label each transaction, i.e. to potentially have ease of search\n",
    "\n",
    "sample_id, the users id that connects with the bottom table to label which group they belong to\n",
    "\n",
    "transaction_amount, the dollar value of the transaction_type\n",
    "\n",
    "transaction_type, one of CHARGEBACK, REBILL, REFUND (the names should be self evident to what they are)"
   ]
  },
  {
   "cell_type": "code",
   "execution_count": 6,
   "metadata": {},
   "outputs": [
    {
     "data": {
      "text/html": [
       "<div>\n",
       "<style scoped>\n",
       "    .dataframe tbody tr th:only-of-type {\n",
       "        vertical-align: middle;\n",
       "    }\n",
       "\n",
       "    .dataframe tbody tr th {\n",
       "        vertical-align: top;\n",
       "    }\n",
       "\n",
       "    .dataframe thead th {\n",
       "        text-align: right;\n",
       "    }\n",
       "</style>\n",
       "<table border=\"1\" class=\"dataframe\">\n",
       "  <thead>\n",
       "    <tr style=\"text-align: right;\">\n",
       "      <th></th>\n",
       "      <th>sample_id</th>\n",
       "      <th>test_group</th>\n",
       "    </tr>\n",
       "  </thead>\n",
       "  <tbody>\n",
       "    <tr>\n",
       "      <th>0</th>\n",
       "      <td>1</td>\n",
       "      <td>0</td>\n",
       "    </tr>\n",
       "    <tr>\n",
       "      <th>1</th>\n",
       "      <td>2</td>\n",
       "      <td>1</td>\n",
       "    </tr>\n",
       "    <tr>\n",
       "      <th>2</th>\n",
       "      <td>3</td>\n",
       "      <td>0</td>\n",
       "    </tr>\n",
       "    <tr>\n",
       "      <th>3</th>\n",
       "      <td>4</td>\n",
       "      <td>1</td>\n",
       "    </tr>\n",
       "    <tr>\n",
       "      <th>4</th>\n",
       "      <td>5</td>\n",
       "      <td>1</td>\n",
       "    </tr>\n",
       "    <tr>\n",
       "      <th>...</th>\n",
       "      <td>...</td>\n",
       "      <td>...</td>\n",
       "    </tr>\n",
       "    <tr>\n",
       "      <th>59716</th>\n",
       "      <td>59717</td>\n",
       "      <td>0</td>\n",
       "    </tr>\n",
       "    <tr>\n",
       "      <th>59717</th>\n",
       "      <td>59718</td>\n",
       "      <td>0</td>\n",
       "    </tr>\n",
       "    <tr>\n",
       "      <th>59718</th>\n",
       "      <td>59719</td>\n",
       "      <td>1</td>\n",
       "    </tr>\n",
       "    <tr>\n",
       "      <th>59719</th>\n",
       "      <td>59720</td>\n",
       "      <td>0</td>\n",
       "    </tr>\n",
       "    <tr>\n",
       "      <th>59720</th>\n",
       "      <td>59721</td>\n",
       "      <td>0</td>\n",
       "    </tr>\n",
       "  </tbody>\n",
       "</table>\n",
       "<p>59721 rows × 2 columns</p>\n",
       "</div>"
      ],
      "text/plain": [
       "       sample_id  test_group\n",
       "0              1           0\n",
       "1              2           1\n",
       "2              3           0\n",
       "3              4           1\n",
       "4              5           1\n",
       "...          ...         ...\n",
       "59716      59717           0\n",
       "59717      59718           0\n",
       "59718      59719           1\n",
       "59719      59720           0\n",
       "59720      59721           0\n",
       "\n",
       "[59721 rows x 2 columns]"
      ]
     },
     "execution_count": 6,
     "metadata": {},
     "output_type": "execute_result"
    }
   ],
   "source": [
    "test_sample"
   ]
  },
  {
   "cell_type": "code",
   "execution_count": 7,
   "metadata": {},
   "outputs": [
    {
     "name": "stdout",
     "output_type": "stream",
     "text": [
      "<class 'pandas.core.frame.DataFrame'>\n",
      "RangeIndex: 59721 entries, 0 to 59720\n",
      "Data columns (total 2 columns):\n",
      " #   Column      Non-Null Count  Dtype\n",
      "---  ------      --------------  -----\n",
      " 0   sample_id   59721 non-null  int64\n",
      " 1   test_group  59721 non-null  int64\n",
      "dtypes: int64(2)\n",
      "memory usage: 933.3 KB\n"
     ]
    }
   ],
   "source": [
    "test_sample.info()"
   ]
  },
  {
   "cell_type": "markdown",
   "metadata": {},
   "source": [
    "For the testSamples.csv we have a table with 59,721 rows and 2 columns, 2 of which are sample id (type int) and test group (type int)\n",
    "\n",
    "\n",
    "test group being the indictation of whether our user is in the control (0) or the test group (1)\n",
    "\n",
    "sample_id is the id that we will use to merge with the other table as the unique identifier to associate each users actions based on group"
   ]
  },
  {
   "cell_type": "markdown",
   "metadata": {},
   "source": [
    "Before we proceed any further we need to check for any NaN's in our data set to ensure they don't alter the results in any way"
   ]
  },
  {
   "cell_type": "code",
   "execution_count": 8,
   "metadata": {},
   "outputs": [
    {
     "data": {
      "text/plain": [
       "sample_id     0\n",
       "test_group    0\n",
       "dtype: int64"
      ]
     },
     "execution_count": 8,
     "metadata": {},
     "output_type": "execute_result"
    }
   ],
   "source": [
    "test_sample.isna().sum()"
   ]
  },
  {
   "cell_type": "code",
   "execution_count": 9,
   "metadata": {},
   "outputs": [
    {
     "data": {
      "text/plain": [
       "transaction_id        0\n",
       "sample_id             0\n",
       "transaction_type      0\n",
       "transaction_amount    0\n",
       "dtype: int64"
      ]
     },
     "execution_count": 9,
     "metadata": {},
     "output_type": "execute_result"
    }
   ],
   "source": [
    "transaction_data.isna().sum()"
   ]
  },
  {
   "cell_type": "markdown",
   "metadata": {},
   "source": [
    "Good news, no NaN's, we won't need to do any additional work to drop or fill in the values (situation dependent)."
   ]
  },
  {
   "cell_type": "markdown",
   "metadata": {},
   "source": [
    "## What is the aproximate probability distribution between the test group and the control group"
   ]
  },
  {
   "cell_type": "markdown",
   "metadata": {},
   "source": [
    "Because the variables are both categorical, and the question is asking for the probability between the two groups, our distribution becomes a discrete probability distribution.\n",
    "\n",
    "Now there are different ways of deivising the distribution, we can simply do the counts within the merging of the tables or just the testSamples.csv table or we can go further and do it per count of each variable in the combined table below based on the columns.\n",
    "\n",
    "I want to note that, the tables seem to be columns with buckets devising them of counts, hence take the transaction_type and see that there are three buckets in REFUND, REBILL and CHARGEBACK, and the same is with transaction_amount with only a few varying prices\n",
    "\n",
    "I have included the testSamples.csv's table and the combined datas distribution"
   ]
  },
  {
   "cell_type": "markdown",
   "metadata": {},
   "source": [
    "----"
   ]
  },
  {
   "cell_type": "markdown",
   "metadata": {},
   "source": [
    "### Combined Data Distribution"
   ]
  },
  {
   "cell_type": "code",
   "execution_count": 10,
   "metadata": {},
   "outputs": [
    {
     "data": {
      "text/html": [
       "<div>\n",
       "<style scoped>\n",
       "    .dataframe tbody tr th:only-of-type {\n",
       "        vertical-align: middle;\n",
       "    }\n",
       "\n",
       "    .dataframe tbody tr th {\n",
       "        vertical-align: top;\n",
       "    }\n",
       "\n",
       "    .dataframe thead th {\n",
       "        text-align: right;\n",
       "    }\n",
       "</style>\n",
       "<table border=\"1\" class=\"dataframe\">\n",
       "  <thead>\n",
       "    <tr style=\"text-align: right;\">\n",
       "      <th></th>\n",
       "      <th>transaction_id</th>\n",
       "      <th>sample_id</th>\n",
       "      <th>transaction_type</th>\n",
       "      <th>transaction_amount</th>\n",
       "      <th>test_group</th>\n",
       "    </tr>\n",
       "  </thead>\n",
       "  <tbody>\n",
       "    <tr>\n",
       "      <th>0</th>\n",
       "      <td>52346326</td>\n",
       "      <td>11</td>\n",
       "      <td>REBILL</td>\n",
       "      <td>24.95</td>\n",
       "      <td>1</td>\n",
       "    </tr>\n",
       "    <tr>\n",
       "      <th>1</th>\n",
       "      <td>52346327</td>\n",
       "      <td>11</td>\n",
       "      <td>REBILL</td>\n",
       "      <td>24.95</td>\n",
       "      <td>1</td>\n",
       "    </tr>\n",
       "    <tr>\n",
       "      <th>2</th>\n",
       "      <td>52346328</td>\n",
       "      <td>32</td>\n",
       "      <td>REBILL</td>\n",
       "      <td>29.95</td>\n",
       "      <td>1</td>\n",
       "    </tr>\n",
       "    <tr>\n",
       "      <th>3</th>\n",
       "      <td>52346329</td>\n",
       "      <td>32</td>\n",
       "      <td>REBILL</td>\n",
       "      <td>29.95</td>\n",
       "      <td>1</td>\n",
       "    </tr>\n",
       "    <tr>\n",
       "      <th>4</th>\n",
       "      <td>52346330</td>\n",
       "      <td>32</td>\n",
       "      <td>REBILL</td>\n",
       "      <td>29.95</td>\n",
       "      <td>1</td>\n",
       "    </tr>\n",
       "    <tr>\n",
       "      <th>...</th>\n",
       "      <td>...</td>\n",
       "      <td>...</td>\n",
       "      <td>...</td>\n",
       "      <td>...</td>\n",
       "      <td>...</td>\n",
       "    </tr>\n",
       "    <tr>\n",
       "      <th>7425</th>\n",
       "      <td>52353751</td>\n",
       "      <td>59654</td>\n",
       "      <td>REBILL</td>\n",
       "      <td>39.95</td>\n",
       "      <td>1</td>\n",
       "    </tr>\n",
       "    <tr>\n",
       "      <th>7426</th>\n",
       "      <td>52353752</td>\n",
       "      <td>59654</td>\n",
       "      <td>REBILL</td>\n",
       "      <td>39.95</td>\n",
       "      <td>1</td>\n",
       "    </tr>\n",
       "    <tr>\n",
       "      <th>7427</th>\n",
       "      <td>52353753</td>\n",
       "      <td>59689</td>\n",
       "      <td>REBILL</td>\n",
       "      <td>24.95</td>\n",
       "      <td>0</td>\n",
       "    </tr>\n",
       "    <tr>\n",
       "      <th>7428</th>\n",
       "      <td>52353754</td>\n",
       "      <td>59689</td>\n",
       "      <td>REBILL</td>\n",
       "      <td>24.95</td>\n",
       "      <td>0</td>\n",
       "    </tr>\n",
       "    <tr>\n",
       "      <th>7429</th>\n",
       "      <td>52353755</td>\n",
       "      <td>59694</td>\n",
       "      <td>REBILL</td>\n",
       "      <td>24.95</td>\n",
       "      <td>1</td>\n",
       "    </tr>\n",
       "  </tbody>\n",
       "</table>\n",
       "<p>7430 rows × 5 columns</p>\n",
       "</div>"
      ],
      "text/plain": [
       "      transaction_id  sample_id transaction_type  transaction_amount  \\\n",
       "0           52346326         11           REBILL               24.95   \n",
       "1           52346327         11           REBILL               24.95   \n",
       "2           52346328         32           REBILL               29.95   \n",
       "3           52346329         32           REBILL               29.95   \n",
       "4           52346330         32           REBILL               29.95   \n",
       "...              ...        ...              ...                 ...   \n",
       "7425        52353751      59654           REBILL               39.95   \n",
       "7426        52353752      59654           REBILL               39.95   \n",
       "7427        52353753      59689           REBILL               24.95   \n",
       "7428        52353754      59689           REBILL               24.95   \n",
       "7429        52353755      59694           REBILL               24.95   \n",
       "\n",
       "      test_group  \n",
       "0              1  \n",
       "1              1  \n",
       "2              1  \n",
       "3              1  \n",
       "4              1  \n",
       "...          ...  \n",
       "7425           1  \n",
       "7426           1  \n",
       "7427           0  \n",
       "7428           0  \n",
       "7429           1  \n",
       "\n",
       "[7430 rows x 5 columns]"
      ]
     },
     "execution_count": 10,
     "metadata": {},
     "output_type": "execute_result"
    }
   ],
   "source": [
    "combined_data = pd.merge(transaction_data, test_sample, how=\"inner\", on=[\"sample_id\",\"sample_id\"])\n",
    "combined_data"
   ]
  },
  {
   "cell_type": "code",
   "execution_count": 11,
   "metadata": {},
   "outputs": [
    {
     "data": {
      "text/html": [
       "<div>\n",
       "<style scoped>\n",
       "    .dataframe tbody tr th:only-of-type {\n",
       "        vertical-align: middle;\n",
       "    }\n",
       "\n",
       "    .dataframe tbody tr th {\n",
       "        vertical-align: top;\n",
       "    }\n",
       "\n",
       "    .dataframe thead th {\n",
       "        text-align: right;\n",
       "    }\n",
       "</style>\n",
       "<table border=\"1\" class=\"dataframe\">\n",
       "  <thead>\n",
       "    <tr style=\"text-align: right;\">\n",
       "      <th></th>\n",
       "      <th>transaction_id</th>\n",
       "      <th>sample_id</th>\n",
       "      <th>transaction_type</th>\n",
       "      <th>transaction_amount</th>\n",
       "    </tr>\n",
       "    <tr>\n",
       "      <th>test_group</th>\n",
       "      <th></th>\n",
       "      <th></th>\n",
       "      <th></th>\n",
       "      <th></th>\n",
       "    </tr>\n",
       "  </thead>\n",
       "  <tbody>\n",
       "    <tr>\n",
       "      <th>0</th>\n",
       "      <td>4050</td>\n",
       "      <td>4050</td>\n",
       "      <td>4050</td>\n",
       "      <td>4050</td>\n",
       "    </tr>\n",
       "    <tr>\n",
       "      <th>1</th>\n",
       "      <td>3380</td>\n",
       "      <td>3380</td>\n",
       "      <td>3380</td>\n",
       "      <td>3380</td>\n",
       "    </tr>\n",
       "  </tbody>\n",
       "</table>\n",
       "</div>"
      ],
      "text/plain": [
       "            transaction_id  sample_id  transaction_type  transaction_amount\n",
       "test_group                                                                 \n",
       "0                     4050       4050              4050                4050\n",
       "1                     3380       3380              3380                3380"
      ]
     },
     "execution_count": 11,
     "metadata": {},
     "output_type": "execute_result"
    }
   ],
   "source": [
    "combined_data.groupby(\"test_group\").count()"
   ]
  },
  {
   "cell_type": "code",
   "execution_count": 12,
   "metadata": {},
   "outputs": [
    {
     "name": "stdout",
     "output_type": "stream",
     "text": [
      "0: 0.5450874831763123\n"
     ]
    }
   ],
   "source": [
    "print(\"0:\",4050/7430)"
   ]
  },
  {
   "cell_type": "code",
   "execution_count": 13,
   "metadata": {},
   "outputs": [
    {
     "name": "stdout",
     "output_type": "stream",
     "text": [
      "1: 0.4549125168236878\n"
     ]
    }
   ],
   "source": [
    "print(\"1:\",3380/7430)"
   ]
  },
  {
   "cell_type": "markdown",
   "metadata": {},
   "source": [
    "Control group makes up ~55% of the occurences whereas the test group makes up the remaining 45%"
   ]
  },
  {
   "cell_type": "code",
   "execution_count": 14,
   "metadata": {},
   "outputs": [
    {
     "data": {
      "text/plain": [
       "['0', '1']"
      ]
     },
     "execution_count": 14,
     "metadata": {},
     "output_type": "execute_result"
    }
   ],
   "source": [
    "group_ids = combined_data.groupby(\"test_group\").count().index\n",
    "group_ids = [str(i) for i in group_ids]\n",
    "group_ids"
   ]
  },
  {
   "cell_type": "code",
   "execution_count": 15,
   "metadata": {},
   "outputs": [
    {
     "data": {
      "image/png": "[encoded data removed]",
      "text/plain": [
       "<Figure size 432x288 with 1 Axes>"
      ]
     },
     "metadata": {
      "needs_background": "light"
     },
     "output_type": "display_data"
    }
   ],
   "source": [
    "plt.figure()\n",
    "plt.bar(group_ids, combined_data.groupby(\"test_group\").count()[\"transaction_id\"] )\n",
    "plt.xlabel(\"Group ID (0=Control, 1 = Test)\")\n",
    "plt.ylabel(\"Number of occurences\")\n",
    "plt.title(\"merged tables group id's # of occurences\")\n",
    "plt.show()"
   ]
  },
  {
   "cell_type": "markdown",
   "metadata": {},
   "source": [
    "----"
   ]
  },
  {
   "cell_type": "markdown",
   "metadata": {},
   "source": [
    "### testSample.csv Distribution"
   ]
  },
  {
   "cell_type": "code",
   "execution_count": 16,
   "metadata": {},
   "outputs": [
    {
     "data": {
      "text/plain": [
       "['0', '1']"
      ]
     },
     "execution_count": 16,
     "metadata": {},
     "output_type": "execute_result"
    }
   ],
   "source": [
    "group_ids = test_sample.groupby(\"test_group\").count().index\n",
    "group_ids = [str(i) for i in group_ids]\n",
    "group_ids"
   ]
  },
  {
   "cell_type": "code",
   "execution_count": 17,
   "metadata": {},
   "outputs": [
    {
     "data": {
      "image/png": "[encoded data removed]",
      "text/plain": [
       "<Figure size 432x288 with 1 Axes>"
      ]
     },
     "metadata": {
      "needs_background": "light"
     },
     "output_type": "display_data"
    }
   ],
   "source": [
    "plt.figure()\n",
    "plt.bar(group_ids, test_sample.groupby(\"test_group\").count()[\"sample_id\"])\n",
    "plt.xlabel(\"Group ID (0=Control, 1 = Test)\")\n",
    "plt.ylabel(\"Number of occurences\")\n",
    "plt.title(\"TestSamples.csv group id's # of occurences\")\n",
    "plt.show()"
   ]
  },
  {
   "cell_type": "code",
   "execution_count": 18,
   "metadata": {},
   "outputs": [
    {
     "data": {
      "text/plain": [
       "test_group\n",
       "0    44886\n",
       "1    14835\n",
       "Name: sample_id, dtype: int64"
      ]
     },
     "execution_count": 18,
     "metadata": {},
     "output_type": "execute_result"
    }
   ],
   "source": [
    "test_sample.groupby(\"test_group\").count()[\"sample_id\"]"
   ]
  },
  {
   "cell_type": "code",
   "execution_count": 19,
   "metadata": {},
   "outputs": [
    {
     "name": "stdout",
     "output_type": "stream",
     "text": [
      "0: 0.751594916361079\n"
     ]
    }
   ],
   "source": [
    "print(\"0:\", 44886/59721)"
   ]
  },
  {
   "cell_type": "code",
   "execution_count": 20,
   "metadata": {},
   "outputs": [
    {
     "name": "stdout",
     "output_type": "stream",
     "text": [
      "1: 0.24840508363892097\n"
     ]
    }
   ],
   "source": [
    "print(\"1:\", 14835/59721)"
   ]
  },
  {
   "cell_type": "markdown",
   "metadata": {},
   "source": [
    "Control group makes up ~75% of the occurences wheres as the test group makes up the remaining ~25%"
   ]
  },
  {
   "cell_type": "markdown",
   "metadata": {},
   "source": [
    "------------"
   ]
  },
  {
   "cell_type": "markdown",
   "metadata": {},
   "source": [
    "## Is a user that must call-in to cancel more likely to generate at least 1 addition(al) REBILL?"
   ]
  },
  {
   "cell_type": "markdown",
   "metadata": {},
   "source": [
    "The reality here is that because the results are based on occurrence we are essentially looking at categorical variables and the number of times they occur, this way when we set up the table we’ll see that it’s a contingency table that a chi-square test can test to see if calling in or web forms are independent of each other for a rebill or dependent on each other."
   ]
  },
  {
   "cell_type": "markdown",
   "metadata": {},
   "source": [
    "let us now combine the two tables to get one large one"
   ]
  },
  {
   "cell_type": "code",
   "execution_count": 21,
   "metadata": {},
   "outputs": [
    {
     "data": {
      "text/html": [
       "<div>\n",
       "<style scoped>\n",
       "    .dataframe tbody tr th:only-of-type {\n",
       "        vertical-align: middle;\n",
       "    }\n",
       "\n",
       "    .dataframe tbody tr th {\n",
       "        vertical-align: top;\n",
       "    }\n",
       "\n",
       "    .dataframe thead th {\n",
       "        text-align: right;\n",
       "    }\n",
       "</style>\n",
       "<table border=\"1\" class=\"dataframe\">\n",
       "  <thead>\n",
       "    <tr style=\"text-align: right;\">\n",
       "      <th></th>\n",
       "      <th>transaction_id</th>\n",
       "      <th>sample_id</th>\n",
       "      <th>transaction_type</th>\n",
       "      <th>transaction_amount</th>\n",
       "      <th>test_group</th>\n",
       "    </tr>\n",
       "  </thead>\n",
       "  <tbody>\n",
       "    <tr>\n",
       "      <th>0</th>\n",
       "      <td>52346326</td>\n",
       "      <td>11</td>\n",
       "      <td>REBILL</td>\n",
       "      <td>24.95</td>\n",
       "      <td>1</td>\n",
       "    </tr>\n",
       "    <tr>\n",
       "      <th>1</th>\n",
       "      <td>52346327</td>\n",
       "      <td>11</td>\n",
       "      <td>REBILL</td>\n",
       "      <td>24.95</td>\n",
       "      <td>1</td>\n",
       "    </tr>\n",
       "    <tr>\n",
       "      <th>2</th>\n",
       "      <td>52346328</td>\n",
       "      <td>32</td>\n",
       "      <td>REBILL</td>\n",
       "      <td>29.95</td>\n",
       "      <td>1</td>\n",
       "    </tr>\n",
       "    <tr>\n",
       "      <th>3</th>\n",
       "      <td>52346329</td>\n",
       "      <td>32</td>\n",
       "      <td>REBILL</td>\n",
       "      <td>29.95</td>\n",
       "      <td>1</td>\n",
       "    </tr>\n",
       "    <tr>\n",
       "      <th>4</th>\n",
       "      <td>52346330</td>\n",
       "      <td>32</td>\n",
       "      <td>REBILL</td>\n",
       "      <td>29.95</td>\n",
       "      <td>1</td>\n",
       "    </tr>\n",
       "    <tr>\n",
       "      <th>...</th>\n",
       "      <td>...</td>\n",
       "      <td>...</td>\n",
       "      <td>...</td>\n",
       "      <td>...</td>\n",
       "      <td>...</td>\n",
       "    </tr>\n",
       "    <tr>\n",
       "      <th>7425</th>\n",
       "      <td>52353751</td>\n",
       "      <td>59654</td>\n",
       "      <td>REBILL</td>\n",
       "      <td>39.95</td>\n",
       "      <td>1</td>\n",
       "    </tr>\n",
       "    <tr>\n",
       "      <th>7426</th>\n",
       "      <td>52353752</td>\n",
       "      <td>59654</td>\n",
       "      <td>REBILL</td>\n",
       "      <td>39.95</td>\n",
       "      <td>1</td>\n",
       "    </tr>\n",
       "    <tr>\n",
       "      <th>7427</th>\n",
       "      <td>52353753</td>\n",
       "      <td>59689</td>\n",
       "      <td>REBILL</td>\n",
       "      <td>24.95</td>\n",
       "      <td>0</td>\n",
       "    </tr>\n",
       "    <tr>\n",
       "      <th>7428</th>\n",
       "      <td>52353754</td>\n",
       "      <td>59689</td>\n",
       "      <td>REBILL</td>\n",
       "      <td>24.95</td>\n",
       "      <td>0</td>\n",
       "    </tr>\n",
       "    <tr>\n",
       "      <th>7429</th>\n",
       "      <td>52353755</td>\n",
       "      <td>59694</td>\n",
       "      <td>REBILL</td>\n",
       "      <td>24.95</td>\n",
       "      <td>1</td>\n",
       "    </tr>\n",
       "  </tbody>\n",
       "</table>\n",
       "<p>7430 rows × 5 columns</p>\n",
       "</div>"
      ],
      "text/plain": [
       "      transaction_id  sample_id transaction_type  transaction_amount  \\\n",
       "0           52346326         11           REBILL               24.95   \n",
       "1           52346327         11           REBILL               24.95   \n",
       "2           52346328         32           REBILL               29.95   \n",
       "3           52346329         32           REBILL               29.95   \n",
       "4           52346330         32           REBILL               29.95   \n",
       "...              ...        ...              ...                 ...   \n",
       "7425        52353751      59654           REBILL               39.95   \n",
       "7426        52353752      59654           REBILL               39.95   \n",
       "7427        52353753      59689           REBILL               24.95   \n",
       "7428        52353754      59689           REBILL               24.95   \n",
       "7429        52353755      59694           REBILL               24.95   \n",
       "\n",
       "      test_group  \n",
       "0              1  \n",
       "1              1  \n",
       "2              1  \n",
       "3              1  \n",
       "4              1  \n",
       "...          ...  \n",
       "7425           1  \n",
       "7426           1  \n",
       "7427           0  \n",
       "7428           0  \n",
       "7429           1  \n",
       "\n",
       "[7430 rows x 5 columns]"
      ]
     },
     "execution_count": 21,
     "metadata": {},
     "output_type": "execute_result"
    }
   ],
   "source": [
    "combined_data = pd.merge(transaction_data, test_sample, how=\"inner\", on=[\"sample_id\",\"sample_id\"])\n",
    "combined_data"
   ]
  },
  {
   "cell_type": "markdown",
   "metadata": {},
   "source": [
    "Lets break down based on how many recorded transactions (this word used loosley) there are now"
   ]
  },
  {
   "cell_type": "code",
   "execution_count": 22,
   "metadata": {},
   "outputs": [
    {
     "data": {
      "text/html": [
       "<div>\n",
       "<style scoped>\n",
       "    .dataframe tbody tr th:only-of-type {\n",
       "        vertical-align: middle;\n",
       "    }\n",
       "\n",
       "    .dataframe tbody tr th {\n",
       "        vertical-align: top;\n",
       "    }\n",
       "\n",
       "    .dataframe thead th {\n",
       "        text-align: right;\n",
       "    }\n",
       "</style>\n",
       "<table border=\"1\" class=\"dataframe\">\n",
       "  <thead>\n",
       "    <tr style=\"text-align: right;\">\n",
       "      <th></th>\n",
       "      <th>transaction_id</th>\n",
       "      <th>sample_id</th>\n",
       "      <th>transaction_type</th>\n",
       "      <th>transaction_amount</th>\n",
       "    </tr>\n",
       "    <tr>\n",
       "      <th>test_group</th>\n",
       "      <th></th>\n",
       "      <th></th>\n",
       "      <th></th>\n",
       "      <th></th>\n",
       "    </tr>\n",
       "  </thead>\n",
       "  <tbody>\n",
       "    <tr>\n",
       "      <th>0</th>\n",
       "      <td>4050</td>\n",
       "      <td>4050</td>\n",
       "      <td>4050</td>\n",
       "      <td>4050</td>\n",
       "    </tr>\n",
       "    <tr>\n",
       "      <th>1</th>\n",
       "      <td>3380</td>\n",
       "      <td>3380</td>\n",
       "      <td>3380</td>\n",
       "      <td>3380</td>\n",
       "    </tr>\n",
       "  </tbody>\n",
       "</table>\n",
       "</div>"
      ],
      "text/plain": [
       "            transaction_id  sample_id  transaction_type  transaction_amount\n",
       "test_group                                                                 \n",
       "0                     4050       4050              4050                4050\n",
       "1                     3380       3380              3380                3380"
      ]
     },
     "execution_count": 22,
     "metadata": {},
     "output_type": "execute_result"
    }
   ],
   "source": [
    "combined_data.groupby(\"test_group\").count()"
   ]
  },
  {
   "cell_type": "code",
   "execution_count": 23,
   "metadata": {},
   "outputs": [
    {
     "data": {
      "text/plain": [
       "0.5450874831763123"
      ]
     },
     "execution_count": 23,
     "metadata": {},
     "output_type": "execute_result"
    }
   ],
   "source": [
    "4050/7430"
   ]
  },
  {
   "cell_type": "code",
   "execution_count": 24,
   "metadata": {},
   "outputs": [
    {
     "data": {
      "text/plain": [
       "0.4549125168236878"
      ]
     },
     "execution_count": 24,
     "metadata": {},
     "output_type": "execute_result"
    }
   ],
   "source": [
    "3380/7430"
   ]
  },
  {
   "cell_type": "markdown",
   "metadata": {},
   "source": [
    "The test group (call-in's) make up ~45%, where as the control (web) make up ~55%"
   ]
  },
  {
   "cell_type": "markdown",
   "metadata": {},
   "source": [
    "The above is not based on unique users, lets now refine the scope so we can see based on each user if they are more likely to rebill if they call in"
   ]
  },
  {
   "cell_type": "code",
   "execution_count": 25,
   "metadata": {},
   "outputs": [],
   "source": [
    "combined_data[\"sample_id\"] = combined_data[\"sample_id\"].drop_duplicates()"
   ]
  },
  {
   "cell_type": "code",
   "execution_count": 26,
   "metadata": {},
   "outputs": [
    {
     "data": {
      "text/html": [
       "<div>\n",
       "<style scoped>\n",
       "    .dataframe tbody tr th:only-of-type {\n",
       "        vertical-align: middle;\n",
       "    }\n",
       "\n",
       "    .dataframe tbody tr th {\n",
       "        vertical-align: top;\n",
       "    }\n",
       "\n",
       "    .dataframe thead th {\n",
       "        text-align: right;\n",
       "    }\n",
       "</style>\n",
       "<table border=\"1\" class=\"dataframe\">\n",
       "  <thead>\n",
       "    <tr style=\"text-align: right;\">\n",
       "      <th></th>\n",
       "      <th>transaction_id</th>\n",
       "      <th>sample_id</th>\n",
       "      <th>transaction_type</th>\n",
       "      <th>transaction_amount</th>\n",
       "      <th>test_group</th>\n",
       "    </tr>\n",
       "  </thead>\n",
       "  <tbody>\n",
       "    <tr>\n",
       "      <th>0</th>\n",
       "      <td>52346326</td>\n",
       "      <td>11.0</td>\n",
       "      <td>REBILL</td>\n",
       "      <td>24.95</td>\n",
       "      <td>1</td>\n",
       "    </tr>\n",
       "    <tr>\n",
       "      <th>1</th>\n",
       "      <td>52346327</td>\n",
       "      <td>NaN</td>\n",
       "      <td>REBILL</td>\n",
       "      <td>24.95</td>\n",
       "      <td>1</td>\n",
       "    </tr>\n",
       "    <tr>\n",
       "      <th>2</th>\n",
       "      <td>52346328</td>\n",
       "      <td>32.0</td>\n",
       "      <td>REBILL</td>\n",
       "      <td>29.95</td>\n",
       "      <td>1</td>\n",
       "    </tr>\n",
       "    <tr>\n",
       "      <th>3</th>\n",
       "      <td>52346329</td>\n",
       "      <td>NaN</td>\n",
       "      <td>REBILL</td>\n",
       "      <td>29.95</td>\n",
       "      <td>1</td>\n",
       "    </tr>\n",
       "    <tr>\n",
       "      <th>4</th>\n",
       "      <td>52346330</td>\n",
       "      <td>NaN</td>\n",
       "      <td>REBILL</td>\n",
       "      <td>29.95</td>\n",
       "      <td>1</td>\n",
       "    </tr>\n",
       "    <tr>\n",
       "      <th>...</th>\n",
       "      <td>...</td>\n",
       "      <td>...</td>\n",
       "      <td>...</td>\n",
       "      <td>...</td>\n",
       "      <td>...</td>\n",
       "    </tr>\n",
       "    <tr>\n",
       "      <th>7425</th>\n",
       "      <td>52353751</td>\n",
       "      <td>59654.0</td>\n",
       "      <td>REBILL</td>\n",
       "      <td>39.95</td>\n",
       "      <td>1</td>\n",
       "    </tr>\n",
       "    <tr>\n",
       "      <th>7426</th>\n",
       "      <td>52353752</td>\n",
       "      <td>NaN</td>\n",
       "      <td>REBILL</td>\n",
       "      <td>39.95</td>\n",
       "      <td>1</td>\n",
       "    </tr>\n",
       "    <tr>\n",
       "      <th>7427</th>\n",
       "      <td>52353753</td>\n",
       "      <td>59689.0</td>\n",
       "      <td>REBILL</td>\n",
       "      <td>24.95</td>\n",
       "      <td>0</td>\n",
       "    </tr>\n",
       "    <tr>\n",
       "      <th>7428</th>\n",
       "      <td>52353754</td>\n",
       "      <td>NaN</td>\n",
       "      <td>REBILL</td>\n",
       "      <td>24.95</td>\n",
       "      <td>0</td>\n",
       "    </tr>\n",
       "    <tr>\n",
       "      <th>7429</th>\n",
       "      <td>52353755</td>\n",
       "      <td>59694.0</td>\n",
       "      <td>REBILL</td>\n",
       "      <td>24.95</td>\n",
       "      <td>1</td>\n",
       "    </tr>\n",
       "  </tbody>\n",
       "</table>\n",
       "<p>7430 rows × 5 columns</p>\n",
       "</div>"
      ],
      "text/plain": [
       "      transaction_id  sample_id transaction_type  transaction_amount  \\\n",
       "0           52346326       11.0           REBILL               24.95   \n",
       "1           52346327        NaN           REBILL               24.95   \n",
       "2           52346328       32.0           REBILL               29.95   \n",
       "3           52346329        NaN           REBILL               29.95   \n",
       "4           52346330        NaN           REBILL               29.95   \n",
       "...              ...        ...              ...                 ...   \n",
       "7425        52353751    59654.0           REBILL               39.95   \n",
       "7426        52353752        NaN           REBILL               39.95   \n",
       "7427        52353753    59689.0           REBILL               24.95   \n",
       "7428        52353754        NaN           REBILL               24.95   \n",
       "7429        52353755    59694.0           REBILL               24.95   \n",
       "\n",
       "      test_group  \n",
       "0              1  \n",
       "1              1  \n",
       "2              1  \n",
       "3              1  \n",
       "4              1  \n",
       "...          ...  \n",
       "7425           1  \n",
       "7426           1  \n",
       "7427           0  \n",
       "7428           0  \n",
       "7429           1  \n",
       "\n",
       "[7430 rows x 5 columns]"
      ]
     },
     "execution_count": 26,
     "metadata": {},
     "output_type": "execute_result"
    }
   ],
   "source": [
    "combined_data"
   ]
  },
  {
   "cell_type": "code",
   "execution_count": 27,
   "metadata": {},
   "outputs": [],
   "source": [
    "combined_data.dropna(inplace=True)"
   ]
  },
  {
   "cell_type": "code",
   "execution_count": 28,
   "metadata": {},
   "outputs": [
    {
     "data": {
      "text/html": [
       "<div>\n",
       "<style scoped>\n",
       "    .dataframe tbody tr th:only-of-type {\n",
       "        vertical-align: middle;\n",
       "    }\n",
       "\n",
       "    .dataframe tbody tr th {\n",
       "        vertical-align: top;\n",
       "    }\n",
       "\n",
       "    .dataframe thead th {\n",
       "        text-align: right;\n",
       "    }\n",
       "</style>\n",
       "<table border=\"1\" class=\"dataframe\">\n",
       "  <thead>\n",
       "    <tr style=\"text-align: right;\">\n",
       "      <th></th>\n",
       "      <th>transaction_id</th>\n",
       "      <th>sample_id</th>\n",
       "      <th>transaction_type</th>\n",
       "      <th>transaction_amount</th>\n",
       "      <th>test_group</th>\n",
       "    </tr>\n",
       "  </thead>\n",
       "  <tbody>\n",
       "    <tr>\n",
       "      <th>0</th>\n",
       "      <td>52346326</td>\n",
       "      <td>11.0</td>\n",
       "      <td>REBILL</td>\n",
       "      <td>24.95</td>\n",
       "      <td>1</td>\n",
       "    </tr>\n",
       "    <tr>\n",
       "      <th>2</th>\n",
       "      <td>52346328</td>\n",
       "      <td>32.0</td>\n",
       "      <td>REBILL</td>\n",
       "      <td>29.95</td>\n",
       "      <td>1</td>\n",
       "    </tr>\n",
       "    <tr>\n",
       "      <th>6</th>\n",
       "      <td>52346332</td>\n",
       "      <td>103.0</td>\n",
       "      <td>REBILL</td>\n",
       "      <td>19.95</td>\n",
       "      <td>0</td>\n",
       "    </tr>\n",
       "    <tr>\n",
       "      <th>17</th>\n",
       "      <td>52346343</td>\n",
       "      <td>109.0</td>\n",
       "      <td>REBILL</td>\n",
       "      <td>19.95</td>\n",
       "      <td>0</td>\n",
       "    </tr>\n",
       "    <tr>\n",
       "      <th>18</th>\n",
       "      <td>52346344</td>\n",
       "      <td>127.0</td>\n",
       "      <td>REBILL</td>\n",
       "      <td>32.95</td>\n",
       "      <td>0</td>\n",
       "    </tr>\n",
       "    <tr>\n",
       "      <th>...</th>\n",
       "      <td>...</td>\n",
       "      <td>...</td>\n",
       "      <td>...</td>\n",
       "      <td>...</td>\n",
       "      <td>...</td>\n",
       "    </tr>\n",
       "    <tr>\n",
       "      <th>7422</th>\n",
       "      <td>52353748</td>\n",
       "      <td>59628.0</td>\n",
       "      <td>REBILL</td>\n",
       "      <td>39.95</td>\n",
       "      <td>1</td>\n",
       "    </tr>\n",
       "    <tr>\n",
       "      <th>7424</th>\n",
       "      <td>52353750</td>\n",
       "      <td>59631.0</td>\n",
       "      <td>REFUND</td>\n",
       "      <td>-24.95</td>\n",
       "      <td>1</td>\n",
       "    </tr>\n",
       "    <tr>\n",
       "      <th>7425</th>\n",
       "      <td>52353751</td>\n",
       "      <td>59654.0</td>\n",
       "      <td>REBILL</td>\n",
       "      <td>39.95</td>\n",
       "      <td>1</td>\n",
       "    </tr>\n",
       "    <tr>\n",
       "      <th>7427</th>\n",
       "      <td>52353753</td>\n",
       "      <td>59689.0</td>\n",
       "      <td>REBILL</td>\n",
       "      <td>24.95</td>\n",
       "      <td>0</td>\n",
       "    </tr>\n",
       "    <tr>\n",
       "      <th>7429</th>\n",
       "      <td>52353755</td>\n",
       "      <td>59694.0</td>\n",
       "      <td>REBILL</td>\n",
       "      <td>24.95</td>\n",
       "      <td>1</td>\n",
       "    </tr>\n",
       "  </tbody>\n",
       "</table>\n",
       "<p>2714 rows × 5 columns</p>\n",
       "</div>"
      ],
      "text/plain": [
       "      transaction_id  sample_id transaction_type  transaction_amount  \\\n",
       "0           52346326       11.0           REBILL               24.95   \n",
       "2           52346328       32.0           REBILL               29.95   \n",
       "6           52346332      103.0           REBILL               19.95   \n",
       "17          52346343      109.0           REBILL               19.95   \n",
       "18          52346344      127.0           REBILL               32.95   \n",
       "...              ...        ...              ...                 ...   \n",
       "7422        52353748    59628.0           REBILL               39.95   \n",
       "7424        52353750    59631.0           REFUND              -24.95   \n",
       "7425        52353751    59654.0           REBILL               39.95   \n",
       "7427        52353753    59689.0           REBILL               24.95   \n",
       "7429        52353755    59694.0           REBILL               24.95   \n",
       "\n",
       "      test_group  \n",
       "0              1  \n",
       "2              1  \n",
       "6              0  \n",
       "17             0  \n",
       "18             0  \n",
       "...          ...  \n",
       "7422           1  \n",
       "7424           1  \n",
       "7425           1  \n",
       "7427           0  \n",
       "7429           1  \n",
       "\n",
       "[2714 rows x 5 columns]"
      ]
     },
     "execution_count": 28,
     "metadata": {},
     "output_type": "execute_result"
    }
   ],
   "source": [
    "combined_data"
   ]
  },
  {
   "cell_type": "code",
   "execution_count": 29,
   "metadata": {},
   "outputs": [
    {
     "data": {
      "text/html": [
       "<div>\n",
       "<style scoped>\n",
       "    .dataframe tbody tr th:only-of-type {\n",
       "        vertical-align: middle;\n",
       "    }\n",
       "\n",
       "    .dataframe tbody tr th {\n",
       "        vertical-align: top;\n",
       "    }\n",
       "\n",
       "    .dataframe thead th {\n",
       "        text-align: right;\n",
       "    }\n",
       "</style>\n",
       "<table border=\"1\" class=\"dataframe\">\n",
       "  <thead>\n",
       "    <tr style=\"text-align: right;\">\n",
       "      <th></th>\n",
       "      <th>transaction_id</th>\n",
       "      <th>sample_id</th>\n",
       "      <th>transaction_type</th>\n",
       "      <th>transaction_amount</th>\n",
       "    </tr>\n",
       "    <tr>\n",
       "      <th>test_group</th>\n",
       "      <th></th>\n",
       "      <th></th>\n",
       "      <th></th>\n",
       "      <th></th>\n",
       "    </tr>\n",
       "  </thead>\n",
       "  <tbody>\n",
       "    <tr>\n",
       "      <th>0</th>\n",
       "      <td>1079</td>\n",
       "      <td>1079</td>\n",
       "      <td>1079</td>\n",
       "      <td>1079</td>\n",
       "    </tr>\n",
       "    <tr>\n",
       "      <th>1</th>\n",
       "      <td>1635</td>\n",
       "      <td>1635</td>\n",
       "      <td>1635</td>\n",
       "      <td>1635</td>\n",
       "    </tr>\n",
       "  </tbody>\n",
       "</table>\n",
       "</div>"
      ],
      "text/plain": [
       "            transaction_id  sample_id  transaction_type  transaction_amount\n",
       "test_group                                                                 \n",
       "0                     1079       1079              1079                1079\n",
       "1                     1635       1635              1635                1635"
      ]
     },
     "execution_count": 29,
     "metadata": {},
     "output_type": "execute_result"
    }
   ],
   "source": [
    "combined_data.groupby(\"test_group\").count()"
   ]
  },
  {
   "cell_type": "code",
   "execution_count": 30,
   "metadata": {},
   "outputs": [
    {
     "data": {
      "text/plain": [
       "0.39756816507000736"
      ]
     },
     "execution_count": 30,
     "metadata": {},
     "output_type": "execute_result"
    }
   ],
   "source": [
    "1079/2714"
   ]
  },
  {
   "cell_type": "code",
   "execution_count": 31,
   "metadata": {},
   "outputs": [
    {
     "data": {
      "text/plain": [
       "0.6024318349299926"
      ]
     },
     "execution_count": 31,
     "metadata": {},
     "output_type": "execute_result"
    }
   ],
   "source": [
    "1635/2714"
   ]
  },
  {
   "cell_type": "markdown",
   "metadata": {},
   "source": [
    "Now the test group makes up ~60% of the users whereas the control makes up ~40%"
   ]
  },
  {
   "cell_type": "code",
   "execution_count": 32,
   "metadata": {},
   "outputs": [],
   "source": [
    "#combined_data.groupby(\"test_group\").groupby(\"\")"
   ]
  },
  {
   "cell_type": "markdown",
   "metadata": {},
   "source": [
    "Lets get a glimpse on how the transaction_type's are broken down between both groups together and separately "
   ]
  },
  {
   "cell_type": "code",
   "execution_count": 33,
   "metadata": {},
   "outputs": [
    {
     "data": {
      "text/html": [
       "<div>\n",
       "<style scoped>\n",
       "    .dataframe tbody tr th:only-of-type {\n",
       "        vertical-align: middle;\n",
       "    }\n",
       "\n",
       "    .dataframe tbody tr th {\n",
       "        vertical-align: top;\n",
       "    }\n",
       "\n",
       "    .dataframe thead th {\n",
       "        text-align: right;\n",
       "    }\n",
       "</style>\n",
       "<table border=\"1\" class=\"dataframe\">\n",
       "  <thead>\n",
       "    <tr style=\"text-align: right;\">\n",
       "      <th></th>\n",
       "      <th>transaction_id</th>\n",
       "      <th>sample_id</th>\n",
       "      <th>transaction_amount</th>\n",
       "      <th>test_group</th>\n",
       "    </tr>\n",
       "    <tr>\n",
       "      <th>transaction_type</th>\n",
       "      <th></th>\n",
       "      <th></th>\n",
       "      <th></th>\n",
       "      <th></th>\n",
       "    </tr>\n",
       "  </thead>\n",
       "  <tbody>\n",
       "    <tr>\n",
       "      <th>CHARGEBACK</th>\n",
       "      <td>74</td>\n",
       "      <td>74</td>\n",
       "      <td>74</td>\n",
       "      <td>74</td>\n",
       "    </tr>\n",
       "    <tr>\n",
       "      <th>REBILL</th>\n",
       "      <td>2497</td>\n",
       "      <td>2497</td>\n",
       "      <td>2497</td>\n",
       "      <td>2497</td>\n",
       "    </tr>\n",
       "    <tr>\n",
       "      <th>REFUND</th>\n",
       "      <td>143</td>\n",
       "      <td>143</td>\n",
       "      <td>143</td>\n",
       "      <td>143</td>\n",
       "    </tr>\n",
       "  </tbody>\n",
       "</table>\n",
       "</div>"
      ],
      "text/plain": [
       "                  transaction_id  sample_id  transaction_amount  test_group\n",
       "transaction_type                                                           \n",
       "CHARGEBACK                    74         74                  74          74\n",
       "REBILL                      2497       2497                2497        2497\n",
       "REFUND                       143        143                 143         143"
      ]
     },
     "execution_count": 33,
     "metadata": {},
     "output_type": "execute_result"
    }
   ],
   "source": [
    "combined_data.groupby(\"transaction_type\").count()"
   ]
  },
  {
   "cell_type": "code",
   "execution_count": 34,
   "metadata": {},
   "outputs": [
    {
     "data": {
      "text/html": [
       "<div>\n",
       "<style scoped>\n",
       "    .dataframe tbody tr th:only-of-type {\n",
       "        vertical-align: middle;\n",
       "    }\n",
       "\n",
       "    .dataframe tbody tr th {\n",
       "        vertical-align: top;\n",
       "    }\n",
       "\n",
       "    .dataframe thead th {\n",
       "        text-align: right;\n",
       "    }\n",
       "</style>\n",
       "<table border=\"1\" class=\"dataframe\">\n",
       "  <thead>\n",
       "    <tr style=\"text-align: right;\">\n",
       "      <th></th>\n",
       "      <th></th>\n",
       "      <th>0</th>\n",
       "    </tr>\n",
       "    <tr>\n",
       "      <th>test_group</th>\n",
       "      <th>transaction_type</th>\n",
       "      <th></th>\n",
       "    </tr>\n",
       "  </thead>\n",
       "  <tbody>\n",
       "    <tr>\n",
       "      <th rowspan=\"3\" valign=\"top\">0</th>\n",
       "      <th>CHARGEBACK</th>\n",
       "      <td>51</td>\n",
       "    </tr>\n",
       "    <tr>\n",
       "      <th>REBILL</th>\n",
       "      <td>941</td>\n",
       "    </tr>\n",
       "    <tr>\n",
       "      <th>REFUND</th>\n",
       "      <td>87</td>\n",
       "    </tr>\n",
       "    <tr>\n",
       "      <th rowspan=\"3\" valign=\"top\">1</th>\n",
       "      <th>CHARGEBACK</th>\n",
       "      <td>23</td>\n",
       "    </tr>\n",
       "    <tr>\n",
       "      <th>REBILL</th>\n",
       "      <td>1556</td>\n",
       "    </tr>\n",
       "    <tr>\n",
       "      <th>REFUND</th>\n",
       "      <td>56</td>\n",
       "    </tr>\n",
       "  </tbody>\n",
       "</table>\n",
       "</div>"
      ],
      "text/plain": [
       "                                0\n",
       "test_group transaction_type      \n",
       "0          CHARGEBACK          51\n",
       "           REBILL             941\n",
       "           REFUND              87\n",
       "1          CHARGEBACK          23\n",
       "           REBILL            1556\n",
       "           REFUND              56"
      ]
     },
     "execution_count": 34,
     "metadata": {},
     "output_type": "execute_result"
    }
   ],
   "source": [
    "q1 = combined_data.groupby([\"test_group\",\"transaction_type\"]).size()\n",
    "q1 = pd.DataFrame(q1)\n",
    "q1"
   ]
  },
  {
   "cell_type": "code",
   "execution_count": null,
   "metadata": {},
   "outputs": [],
   "source": []
  },
  {
   "cell_type": "markdown",
   "metadata": {},
   "source": [
    "So just at a glance we can see that the test group has more rebill's than the control group as there are 1556 unique users who rebill if they call in as oppose to 941 who rebill if they can cancel on the web. This answers our question.... BUT we need to verify it didn't happen by chance"
   ]
  },
  {
   "cell_type": "markdown",
   "metadata": {},
   "source": [
    "Let us now conduct a chi-square test to test our indepence of our two groups"
   ]
  },
  {
   "cell_type": "markdown",
   "metadata": {},
   "source": [
    "We will conduct two tests, one that does all transactions and one that does just rebill's to get a full scope of whats going on"
   ]
  },
  {
   "cell_type": "markdown",
   "metadata": {},
   "source": [
    "H_0: There is no relationship between test and control groups in terms of the transaction type\n",
    "\n",
    "H_a: There is a relationship between the test and control in terms of the transaction type"
   ]
  },
  {
   "cell_type": "code",
   "execution_count": 35,
   "metadata": {},
   "outputs": [
    {
     "data": {
      "text/html": [
       "<div>\n",
       "<style scoped>\n",
       "    .dataframe tbody tr th:only-of-type {\n",
       "        vertical-align: middle;\n",
       "    }\n",
       "\n",
       "    .dataframe tbody tr th {\n",
       "        vertical-align: top;\n",
       "    }\n",
       "\n",
       "    .dataframe thead th {\n",
       "        text-align: right;\n",
       "    }\n",
       "</style>\n",
       "<table border=\"1\" class=\"dataframe\">\n",
       "  <thead>\n",
       "    <tr style=\"text-align: right;\">\n",
       "      <th></th>\n",
       "      <th>CHARGEBACK</th>\n",
       "      <th>REBILL</th>\n",
       "      <th>REFUND</th>\n",
       "    </tr>\n",
       "  </thead>\n",
       "  <tbody>\n",
       "    <tr>\n",
       "      <th>0</th>\n",
       "      <td>51</td>\n",
       "      <td>941</td>\n",
       "      <td>87</td>\n",
       "    </tr>\n",
       "    <tr>\n",
       "      <th>1</th>\n",
       "      <td>23</td>\n",
       "      <td>1556</td>\n",
       "      <td>56</td>\n",
       "    </tr>\n",
       "  </tbody>\n",
       "</table>\n",
       "</div>"
      ],
      "text/plain": [
       "   CHARGEBACK  REBILL  REFUND\n",
       "0          51     941      87\n",
       "1          23    1556      56"
      ]
     },
     "execution_count": 35,
     "metadata": {},
     "output_type": "execute_result"
    }
   ],
   "source": [
    "# q1 = {\"\":[],\"\":[],\"\":[]}\n",
    "q1 = {\"CHARGEBACK\":[51,23],\"REBILL\":[941,1556],\"REFUND\":[87,56]}\n",
    "q1 = pd.DataFrame(q1, index = [0,1])\n",
    "q1"
   ]
  },
  {
   "cell_type": "markdown",
   "metadata": {},
   "source": []
  },
  {
   "cell_type": "code",
   "execution_count": 36,
   "metadata": {},
   "outputs": [
    {
     "data": {
      "text/plain": [
       "(57.28671311410747,\n",
       " 3.633693600923662e-13,\n",
       " 2,\n",
       " array([[  29.42004422,  992.72770818,   56.85224761],\n",
       "        [  44.57995578, 1504.27229182,   86.14775239]]))"
      ]
     },
     "execution_count": 36,
     "metadata": {},
     "output_type": "execute_result"
    }
   ],
   "source": [
    "stats.chi2_contingency(q1)"
   ]
  },
  {
   "cell_type": "markdown",
   "metadata": {},
   "source": [
    "With a p-value of 3.633693600923662e-13 which is less than our threshold of 0.05, we reject the null (H_0) in favour of our alternative (H_a) and say they are dependent on each other in terms of the transaction type.\n",
    "\n",
    "Now the above is quite general but it says that if we know the transaction types of one group we can predict the other, meaning if we know we have X number of chargebacks for the control group then we can predict our test groups value as they are dependent, and from just looking at the data, we can say that chances are the test group will have less chargebacks.\n",
    "\n",
    "The example above is a more specific version of what I am trying to answer, in reality its for all transaction types, I just picked one specifically to make a claim and use it to answer the question at hand.\n",
    "\n",
    "So now we can conduct our chisquare for rebill's between the groups"
   ]
  },
  {
   "cell_type": "markdown",
   "metadata": {},
   "source": [
    "H_0: There is no relationship between test and control groups in terms of the number of rebill's\n",
    "\n",
    "H_a: There is a relationship between the test and control in terms of the number of rebill's"
   ]
  },
  {
   "cell_type": "code",
   "execution_count": 37,
   "metadata": {},
   "outputs": [
    {
     "data": {
      "text/html": [
       "<div>\n",
       "<style scoped>\n",
       "    .dataframe tbody tr th:only-of-type {\n",
       "        vertical-align: middle;\n",
       "    }\n",
       "\n",
       "    .dataframe tbody tr th {\n",
       "        vertical-align: top;\n",
       "    }\n",
       "\n",
       "    .dataframe thead th {\n",
       "        text-align: right;\n",
       "    }\n",
       "</style>\n",
       "<table border=\"1\" class=\"dataframe\">\n",
       "  <thead>\n",
       "    <tr style=\"text-align: right;\">\n",
       "      <th></th>\n",
       "      <th>REBILL</th>\n",
       "    </tr>\n",
       "  </thead>\n",
       "  <tbody>\n",
       "    <tr>\n",
       "      <th>0</th>\n",
       "      <td>941</td>\n",
       "    </tr>\n",
       "    <tr>\n",
       "      <th>1</th>\n",
       "      <td>1556</td>\n",
       "    </tr>\n",
       "  </tbody>\n",
       "</table>\n",
       "</div>"
      ],
      "text/plain": [
       "   REBILL\n",
       "0     941\n",
       "1    1556"
      ]
     },
     "execution_count": 37,
     "metadata": {},
     "output_type": "execute_result"
    }
   ],
   "source": [
    "q1 = {\"REBILL\":[941,1556]}\n",
    "q1 = pd.DataFrame(q1, index = [0,1])\n",
    "q1"
   ]
  },
  {
   "cell_type": "code",
   "execution_count": 38,
   "metadata": {},
   "outputs": [
    {
     "data": {
      "text/plain": [
       "(0.0,\n",
       " 1.0,\n",
       " 0,\n",
       " array([[ 941.],\n",
       "        [1556.]]))"
      ]
     },
     "execution_count": 38,
     "metadata": {},
     "output_type": "execute_result"
    }
   ],
   "source": [
    "stats.chi2_contingency(q1)"
   ]
  },
  {
   "cell_type": "markdown",
   "metadata": {},
   "source": [
    "with a p-value of 0, we reject the null in favour of our alternative in there is a relationship between the groups and the number of rebill's and like the above, if we know one of the values for the groups we can predict the other, so in general cases we can say that if we know the number of rebill's for the control group is X we can predict the test group's number of rebill's and based on the info/data we have its likely its > X rebill's as constructed by the control group"
   ]
  },
  {
   "cell_type": "markdown",
   "metadata": {},
   "source": [
    "To the answer the question, if a user/customer does have to call in, they are more likely to rebil than if they don't have to call in and use the web form\n"
   ]
  },
  {
   "cell_type": "markdown",
   "metadata": {},
   "source": [
    "------"
   ]
  },
  {
   "cell_type": "markdown",
   "metadata": {},
   "source": [
    "## Is a user that must call-in to cancel more likely to generate more revenues?"
   ]
  },
  {
   "cell_type": "markdown",
   "metadata": {},
   "source": [
    "Unlike the above test, because we have revenue here per group so we can conduct a two-sided t-test on the average revenue each group generates to further prove the total revenue summation shown below. "
   ]
  },
  {
   "cell_type": "markdown",
   "metadata": {},
   "source": [
    "Let us take a look at the breakdown of the number of occurences for each payment amount for the control and test group to get some further info before we sum and avergae to perform our test"
   ]
  },
  {
   "cell_type": "code",
   "execution_count": 39,
   "metadata": {},
   "outputs": [
    {
     "data": {
      "text/html": [
       "<div>\n",
       "<style scoped>\n",
       "    .dataframe tbody tr th:only-of-type {\n",
       "        vertical-align: middle;\n",
       "    }\n",
       "\n",
       "    .dataframe tbody tr th {\n",
       "        vertical-align: top;\n",
       "    }\n",
       "\n",
       "    .dataframe thead th {\n",
       "        text-align: right;\n",
       "    }\n",
       "</style>\n",
       "<table border=\"1\" class=\"dataframe\">\n",
       "  <thead>\n",
       "    <tr style=\"text-align: right;\">\n",
       "      <th></th>\n",
       "      <th>transaction_id</th>\n",
       "      <th>sample_id</th>\n",
       "      <th>transaction_type</th>\n",
       "      <th>transaction_amount</th>\n",
       "      <th>test_group</th>\n",
       "    </tr>\n",
       "  </thead>\n",
       "  <tbody>\n",
       "    <tr>\n",
       "      <th>0</th>\n",
       "      <td>52346326</td>\n",
       "      <td>11</td>\n",
       "      <td>REBILL</td>\n",
       "      <td>24.95</td>\n",
       "      <td>1</td>\n",
       "    </tr>\n",
       "    <tr>\n",
       "      <th>1</th>\n",
       "      <td>52346327</td>\n",
       "      <td>11</td>\n",
       "      <td>REBILL</td>\n",
       "      <td>24.95</td>\n",
       "      <td>1</td>\n",
       "    </tr>\n",
       "    <tr>\n",
       "      <th>2</th>\n",
       "      <td>52346328</td>\n",
       "      <td>32</td>\n",
       "      <td>REBILL</td>\n",
       "      <td>29.95</td>\n",
       "      <td>1</td>\n",
       "    </tr>\n",
       "    <tr>\n",
       "      <th>3</th>\n",
       "      <td>52346329</td>\n",
       "      <td>32</td>\n",
       "      <td>REBILL</td>\n",
       "      <td>29.95</td>\n",
       "      <td>1</td>\n",
       "    </tr>\n",
       "    <tr>\n",
       "      <th>4</th>\n",
       "      <td>52346330</td>\n",
       "      <td>32</td>\n",
       "      <td>REBILL</td>\n",
       "      <td>29.95</td>\n",
       "      <td>1</td>\n",
       "    </tr>\n",
       "    <tr>\n",
       "      <th>...</th>\n",
       "      <td>...</td>\n",
       "      <td>...</td>\n",
       "      <td>...</td>\n",
       "      <td>...</td>\n",
       "      <td>...</td>\n",
       "    </tr>\n",
       "    <tr>\n",
       "      <th>7425</th>\n",
       "      <td>52353751</td>\n",
       "      <td>59654</td>\n",
       "      <td>REBILL</td>\n",
       "      <td>39.95</td>\n",
       "      <td>1</td>\n",
       "    </tr>\n",
       "    <tr>\n",
       "      <th>7426</th>\n",
       "      <td>52353752</td>\n",
       "      <td>59654</td>\n",
       "      <td>REBILL</td>\n",
       "      <td>39.95</td>\n",
       "      <td>1</td>\n",
       "    </tr>\n",
       "    <tr>\n",
       "      <th>7427</th>\n",
       "      <td>52353753</td>\n",
       "      <td>59689</td>\n",
       "      <td>REBILL</td>\n",
       "      <td>24.95</td>\n",
       "      <td>0</td>\n",
       "    </tr>\n",
       "    <tr>\n",
       "      <th>7428</th>\n",
       "      <td>52353754</td>\n",
       "      <td>59689</td>\n",
       "      <td>REBILL</td>\n",
       "      <td>24.95</td>\n",
       "      <td>0</td>\n",
       "    </tr>\n",
       "    <tr>\n",
       "      <th>7429</th>\n",
       "      <td>52353755</td>\n",
       "      <td>59694</td>\n",
       "      <td>REBILL</td>\n",
       "      <td>24.95</td>\n",
       "      <td>1</td>\n",
       "    </tr>\n",
       "  </tbody>\n",
       "</table>\n",
       "<p>7430 rows × 5 columns</p>\n",
       "</div>"
      ],
      "text/plain": [
       "      transaction_id  sample_id transaction_type  transaction_amount  \\\n",
       "0           52346326         11           REBILL               24.95   \n",
       "1           52346327         11           REBILL               24.95   \n",
       "2           52346328         32           REBILL               29.95   \n",
       "3           52346329         32           REBILL               29.95   \n",
       "4           52346330         32           REBILL               29.95   \n",
       "...              ...        ...              ...                 ...   \n",
       "7425        52353751      59654           REBILL               39.95   \n",
       "7426        52353752      59654           REBILL               39.95   \n",
       "7427        52353753      59689           REBILL               24.95   \n",
       "7428        52353754      59689           REBILL               24.95   \n",
       "7429        52353755      59694           REBILL               24.95   \n",
       "\n",
       "      test_group  \n",
       "0              1  \n",
       "1              1  \n",
       "2              1  \n",
       "3              1  \n",
       "4              1  \n",
       "...          ...  \n",
       "7425           1  \n",
       "7426           1  \n",
       "7427           0  \n",
       "7428           0  \n",
       "7429           1  \n",
       "\n",
       "[7430 rows x 5 columns]"
      ]
     },
     "execution_count": 39,
     "metadata": {},
     "output_type": "execute_result"
    }
   ],
   "source": [
    "combined_data = pd.merge(transaction_data, test_sample, how=\"inner\", on=[\"sample_id\",\"sample_id\"])\n",
    "combined_data"
   ]
  },
  {
   "cell_type": "code",
   "execution_count": 40,
   "metadata": {},
   "outputs": [
    {
     "data": {
      "text/plain": [
       "test_group  transaction_amount\n",
       "0           -32.95                  90\n",
       "            -24.95                  97\n",
       "            -19.95                 107\n",
       "             19.95                1189\n",
       "             24.95                1368\n",
       "             32.95                1199\n",
       "1           -39.95                  50\n",
       "            -29.95                  64\n",
       "            -24.95                  61\n",
       "             24.95                1124\n",
       "             29.95                1031\n",
       "             39.95                1050\n",
       "dtype: int64"
      ]
     },
     "execution_count": 40,
     "metadata": {},
     "output_type": "execute_result"
    }
   ],
   "source": [
    "combined_data.groupby([\"test_group\",\"transaction_amount\"]).size()"
   ]
  },
  {
   "cell_type": "code",
   "execution_count": 41,
   "metadata": {},
   "outputs": [
    {
     "data": {
      "text/html": [
       "<div>\n",
       "<style scoped>\n",
       "    .dataframe tbody tr th:only-of-type {\n",
       "        vertical-align: middle;\n",
       "    }\n",
       "\n",
       "    .dataframe tbody tr th {\n",
       "        vertical-align: top;\n",
       "    }\n",
       "\n",
       "    .dataframe thead th {\n",
       "        text-align: right;\n",
       "    }\n",
       "</style>\n",
       "<table border=\"1\" class=\"dataframe\">\n",
       "  <thead>\n",
       "    <tr style=\"text-align: right;\">\n",
       "      <th></th>\n",
       "      <th>transaction_id</th>\n",
       "      <th>sample_id</th>\n",
       "      <th>transaction_amount</th>\n",
       "    </tr>\n",
       "    <tr>\n",
       "      <th>test_group</th>\n",
       "      <th></th>\n",
       "      <th></th>\n",
       "      <th></th>\n",
       "    </tr>\n",
       "  </thead>\n",
       "  <tbody>\n",
       "    <tr>\n",
       "      <th>0</th>\n",
       "      <td>212017293052</td>\n",
       "      <td>119548895</td>\n",
       "      <td>89838.9</td>\n",
       "    </tr>\n",
       "    <tr>\n",
       "      <th>1</th>\n",
       "      <td>176943507863</td>\n",
       "      <td>105177949</td>\n",
       "      <td>95433.5</td>\n",
       "    </tr>\n",
       "  </tbody>\n",
       "</table>\n",
       "</div>"
      ],
      "text/plain": [
       "            transaction_id  sample_id  transaction_amount\n",
       "test_group                                               \n",
       "0             212017293052  119548895             89838.9\n",
       "1             176943507863  105177949             95433.5"
      ]
     },
     "execution_count": 41,
     "metadata": {},
     "output_type": "execute_result"
    }
   ],
   "source": [
    "q2 = combined_data.groupby([\"test_group\"]).sum(\"transaction_amount\")\n",
    "q2"
   ]
  },
  {
   "cell_type": "markdown",
   "metadata": {},
   "source": [
    "By just looking at total revenue we can see that the test group generates more revenue than the control group"
   ]
  },
  {
   "cell_type": "markdown",
   "metadata": {},
   "source": [
    "Lets now see their averages and see how each user in the group contributes"
   ]
  },
  {
   "cell_type": "code",
   "execution_count": 42,
   "metadata": {},
   "outputs": [
    {
     "data": {
      "text/html": [
       "<div>\n",
       "<style scoped>\n",
       "    .dataframe tbody tr th:only-of-type {\n",
       "        vertical-align: middle;\n",
       "    }\n",
       "\n",
       "    .dataframe tbody tr th {\n",
       "        vertical-align: top;\n",
       "    }\n",
       "\n",
       "    .dataframe thead th {\n",
       "        text-align: right;\n",
       "    }\n",
       "</style>\n",
       "<table border=\"1\" class=\"dataframe\">\n",
       "  <thead>\n",
       "    <tr style=\"text-align: right;\">\n",
       "      <th></th>\n",
       "      <th>transaction_id</th>\n",
       "      <th>sample_id</th>\n",
       "      <th>transaction_amount</th>\n",
       "    </tr>\n",
       "    <tr>\n",
       "      <th>test_group</th>\n",
       "      <th></th>\n",
       "      <th></th>\n",
       "      <th></th>\n",
       "    </tr>\n",
       "  </thead>\n",
       "  <tbody>\n",
       "    <tr>\n",
       "      <th>0</th>\n",
       "      <td>5.234995e+07</td>\n",
       "      <td>29518.245679</td>\n",
       "      <td>22.182444</td>\n",
       "    </tr>\n",
       "    <tr>\n",
       "      <th>1</th>\n",
       "      <td>5.235015e+07</td>\n",
       "      <td>31117.736391</td>\n",
       "      <td>28.234763</td>\n",
       "    </tr>\n",
       "  </tbody>\n",
       "</table>\n",
       "</div>"
      ],
      "text/plain": [
       "            transaction_id     sample_id  transaction_amount\n",
       "test_group                                                  \n",
       "0             5.234995e+07  29518.245679           22.182444\n",
       "1             5.235015e+07  31117.736391           28.234763"
      ]
     },
     "execution_count": 42,
     "metadata": {},
     "output_type": "execute_result"
    }
   ],
   "source": [
    "q2 = combined_data.groupby([\"test_group\"]).mean(\"transaction_amount\")\n",
    "q2"
   ]
  },
  {
   "cell_type": "markdown",
   "metadata": {},
   "source": [
    "The test group generates per user more revenue than each user in the control group, meaning just by looking at the data, we can say that a user who calls in is more likely to generate more revenue than someone who doesn't. Like the previous question we need to perform a test, specifically a two-sided t-test to say wtihout reasonable doubt our two groups have different means "
   ]
  },
  {
   "cell_type": "code",
   "execution_count": 43,
   "metadata": {},
   "outputs": [],
   "source": [
    "q2.drop(columns=[\"transaction_id\",\"sample_id\"], inplace=True)"
   ]
  },
  {
   "cell_type": "markdown",
   "metadata": {},
   "source": [
    "Lets define our null and alternate hypothesis for this test (note this is an unpaired two-sided t-test)\n",
    "\n",
    "H_0: The mean of our revenue is the same in the test group as is the control group\n",
    "\n",
    "H_A: The mean of our revenue is not the same in the test group as is the control group"
   ]
  },
  {
   "cell_type": "code",
   "execution_count": 44,
   "metadata": {},
   "outputs": [
    {
     "data": {
      "text/plain": [
       "0       24.95\n",
       "1       24.95\n",
       "2       29.95\n",
       "3       29.95\n",
       "4       29.95\n",
       "        ...  \n",
       "7423    39.95\n",
       "7424   -24.95\n",
       "7425    39.95\n",
       "7426    39.95\n",
       "7429    24.95\n",
       "Name: transaction_amount, Length: 3380, dtype: float64"
      ]
     },
     "execution_count": 44,
     "metadata": {},
     "output_type": "execute_result"
    }
   ],
   "source": [
    "test_group = combined_data[combined_data[\"test_group\"] == 1]\n",
    "test_group = test_group[\"transaction_amount\"]\n",
    "test_group"
   ]
  },
  {
   "cell_type": "code",
   "execution_count": 45,
   "metadata": {},
   "outputs": [
    {
     "data": {
      "text/plain": [
       "6       19.95\n",
       "7       19.95\n",
       "8       19.95\n",
       "9       19.95\n",
       "10      19.95\n",
       "        ...  \n",
       "7417    24.95\n",
       "7418    24.95\n",
       "7419    24.95\n",
       "7427    24.95\n",
       "7428    24.95\n",
       "Name: transaction_amount, Length: 4050, dtype: float64"
      ]
     },
     "execution_count": 45,
     "metadata": {},
     "output_type": "execute_result"
    }
   ],
   "source": [
    "control_group = combined_data[combined_data[\"test_group\"] == 0]\n",
    "control_group = control_group[\"transaction_amount\"]\n",
    "control_group"
   ]
  },
  {
   "cell_type": "code",
   "execution_count": 46,
   "metadata": {},
   "outputs": [
    {
     "name": "stdout",
     "output_type": "stream",
     "text": [
      "Ttest_indResult(statistic=17.61637445019746, pvalue=4.410306919832482e-68)\n"
     ]
    }
   ],
   "source": [
    "two_sample_test = stats.ttest_ind(test_group, control_group)\n",
    "print(two_sample_test)"
   ]
  },
  {
   "cell_type": "markdown",
   "metadata": {},
   "source": [
    "with a small p-value of 4.410306919832482e-68 whiich is less than our significance level of 0.05, we reject the null hypothesis in favour of our alternative hypothesis that the mean revenue per user in each group is different, which allows us to go back to our claim as stated above, in that if a customer does call in, they are more likely to generate more revenue."
   ]
  },
  {
   "cell_type": "markdown",
   "metadata": {},
   "source": [
    "Note, because each customer is randomly placed in each group and not the other we are not doing a paired t-test as each user belongs to one group."
   ]
  },
  {
   "cell_type": "markdown",
   "metadata": {},
   "source": [
    "-----"
   ]
  },
  {
   "cell_type": "markdown",
   "metadata": {},
   "source": [
    "## Is a user that must call-in more likely to produce a higher chargeback rate(CHARGEBACKs/REBILLs)?"
   ]
  },
  {
   "cell_type": "code",
   "execution_count": 47,
   "metadata": {},
   "outputs": [],
   "source": [
    "combined_data = pd.merge(transaction_data, test_sample, how=\"inner\", on=[\"sample_id\",\"sample_id\"])\n"
   ]
  },
  {
   "cell_type": "code",
   "execution_count": 48,
   "metadata": {},
   "outputs": [
    {
     "data": {
      "text/plain": [
       "test_group  transaction_type\n",
       "0           CHARGEBACK           106\n",
       "            REBILL              3756\n",
       "            REFUND               188\n",
       "1           CHARGEBACK            57\n",
       "            REBILL              3205\n",
       "            REFUND               118\n",
       "dtype: int64"
      ]
     },
     "execution_count": 48,
     "metadata": {},
     "output_type": "execute_result"
    }
   ],
   "source": [
    "combined_data.groupby([\"test_group\",\"transaction_type\"]).size()"
   ]
  },
  {
   "cell_type": "code",
   "execution_count": null,
   "metadata": {},
   "outputs": [],
   "source": []
  },
  {
   "cell_type": "code",
   "execution_count": 49,
   "metadata": {},
   "outputs": [],
   "source": [
    "test_group = combined_data[combined_data[\"test_group\"] == 1]\n",
    "control_group = combined_data[combined_data[\"test_group\"] == 0]"
   ]
  },
  {
   "cell_type": "code",
   "execution_count": 50,
   "metadata": {},
   "outputs": [],
   "source": [
    "test_group_charge = test_group[test_group[\"transaction_type\"] == \"CHARGEBACK\"]\n",
    "test_group_rebill = test_group[test_group[\"transaction_type\"] == \"REBILL\"]\n",
    "control_group_charge = control_group[control_group[\"transaction_type\"] == \"CHARGEBACK\"]\n",
    "control_group_rebill = control_group[control_group[\"transaction_type\"] == \"REBILL\"]"
   ]
  },
  {
   "cell_type": "code",
   "execution_count": 51,
   "metadata": {},
   "outputs": [
    {
     "data": {
      "text/plain": [
       "0.017784711388455537"
      ]
     },
     "execution_count": 51,
     "metadata": {},
     "output_type": "execute_result"
    }
   ],
   "source": [
    "test_group_charge.shape[0]/test_group_rebill.shape[0]"
   ]
  },
  {
   "cell_type": "code",
   "execution_count": 52,
   "metadata": {},
   "outputs": [
    {
     "data": {
      "text/plain": [
       "0.028221512247071354"
      ]
     },
     "execution_count": 52,
     "metadata": {},
     "output_type": "execute_result"
    }
   ],
   "source": [
    "control_group_charge.shape[0]/control_group_rebill.shape[0]"
   ]
  },
  {
   "cell_type": "markdown",
   "metadata": {},
   "source": [
    "Based on the above values, our control group has a higher chargeback rate of ~2.82% as oppose to the test groups charge back rate of ~1.77%"
   ]
  },
  {
   "cell_type": "markdown",
   "metadata": {},
   "source": [
    "A user who calls in has a lower charge back rate than user who uses the web form"
   ]
  },
  {
   "cell_type": "markdown",
   "metadata": {},
   "source": [
    "Note, I don't see the use of statistical test here to generate any further conclusion, as although a chi-square test might further show the results the question seems to be more of a can you find the values and show the result approach."
   ]
  },
  {
   "cell_type": "markdown",
   "metadata": {},
   "source": [
    "## Side Notes:"
   ]
  },
  {
   "cell_type": "markdown",
   "metadata": {},
   "source": [
    "The use of statistical tests for this technical assessment may be excessive and simply not needed, as based on the questions we can simply derive the information by going through the data and showing results. The use of the words \"Draw conclusions from observations\" can be intrepreted as either, observations from statistical tests or simply looking at the data the way we need to answer the question at hand."
   ]
  },
  {
   "cell_type": "markdown",
   "metadata": {},
   "source": [
    "I have gone through the liberty of using both a .py and .pynb to display the code, this file provides the code and detail better than .py file, but in a production environment, if we want to re-use the code, the .py file is go to answer these questions should the data change/update."
   ]
  },
  {
   "cell_type": "markdown",
   "metadata": {},
   "source": [
    "I have only included the statistical tests in this file, as it is more manageable to display in this file than the python file, the python file's aim is to simply answer and show the results"
   ]
  }
 ],
 "metadata": {
  "kernelspec": {
   "display_name": "Python 3",
   "language": "python",
   "name": "python3"
  },
  "language_info": {
   "codemirror_mode": {
    "name": "ipython",
    "version": 3
   },
   "file_extension": ".py",
   "mimetype": "text/x-python",
   "name": "python",
   "nbconvert_exporter": "python",
   "pygments_lexer": "ipython3",
   "version": "3.8.5"
  }
 },
 "nbformat": 4,
 "nbformat_minor": 5
}
